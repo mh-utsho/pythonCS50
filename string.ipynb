{
 "cells": [
  {
   "cell_type": "markdown",
   "id": "06ea4bdb",
   "metadata": {},
   "source": [
    "# string"
   ]
  },
  {
   "cell_type": "code",
   "execution_count": 1,
   "id": "37701c68",
   "metadata": {},
   "outputs": [
    {
     "name": "stdout",
     "output_type": "stream",
     "text": [
      "My name is utsho\n",
      "My name is  utsho\n"
     ]
    }
   ],
   "source": [
    "name = input(\"What is your name ?\")\n",
    "# when i use a + dont give extra space but , give extra\n",
    "print(\"My name is \"+ name)\n",
    "print(\"My name is \",name)"
   ]
  },
  {
   "cell_type": "code",
   "execution_count": 14,
   "id": "ab71c791",
   "metadata": {},
   "outputs": [
    {
     "name": "stdout",
     "output_type": "stream",
     "text": [
      "meowmeowmeow\n"
     ]
    }
   ],
   "source": [
    "str=\"meow\";\n",
    "str*=3;\n",
    "str\n",
    "#print(\"meow \"*3)\n",
    "print(str)"
   ]
  },
  {
   "cell_type": "markdown",
   "id": "3779539d",
   "metadata": {},
   "source": [
    "1 . stlit & title"
   ]
  },
  {
   "cell_type": "code",
   "execution_count": 4,
   "id": "de755cbb",
   "metadata": {},
   "outputs": [
    {
     "name": "stdout",
     "output_type": "stream",
     "text": [
      "My name is Maharub Utsho\n"
     ]
    }
   ],
   "source": [
    "str=\"        maharub utsho            \"\n",
    "# Remove whitespace from str start and end\n",
    "#title capitalize in every word first letter\n",
    "str=str.strip().title()\n",
    "print(\"My name is \"+ str)"
   ]
  },
  {
   "cell_type": "markdown",
   "id": "82b3abca",
   "metadata": {},
   "source": [
    "2.split"
   ]
  },
  {
   "cell_type": "code",
   "execution_count": 13,
   "id": "4a73062a",
   "metadata": {},
   "outputs": [
    {
     "name": "stdout",
     "output_type": "stream",
     "text": [
      "First Aa & Second Bb\n"
     ]
    }
   ],
   "source": [
    "str = \"Aa Bb\"\n",
    "#split divide number of parts in this  symbol string.split(\" \")\n",
    "#string.split() // by defult it do like (\" \")\n",
    "a,b=str.split(\" \")\n",
    "print(f\"First {a} & Second {b}\")"
   ]
  },
  {
   "cell_type": "markdown",
   "id": "00673b4f",
   "metadata": {},
   "source": [
    "3.len(var_name)"
   ]
  },
  {
   "cell_type": "code",
   "execution_count": 3,
   "id": "7c853e06",
   "metadata": {},
   "outputs": [
    {
     "name": "stdout",
     "output_type": "stream",
     "text": [
      "The size of the lisy 3\n",
      "1. Utsho\n",
      "2. Farhan\n",
      "3. Shihab\n"
     ]
    }
   ],
   "source": [
    "students = [\"Utsho\",\"Farhan\",\"Shihab\"]\n",
    "print(\"The size of the lisy\",len(students))\n",
    "\n",
    "for i in range(len(students)):\n",
    "    print(f\"{i+1}. {students[i]}\")"
   ]
  }
 ],
 "metadata": {
  "kernelspec": {
   "display_name": "Python 3",
   "language": "python",
   "name": "python3"
  },
  "language_info": {
   "codemirror_mode": {
    "name": "ipython",
    "version": 3
   },
   "file_extension": ".py",
   "mimetype": "text/x-python",
   "name": "python",
   "nbconvert_exporter": "python",
   "pygments_lexer": "ipython3",
   "version": "3.11.9"
  }
 },
 "nbformat": 4,
 "nbformat_minor": 5
}
