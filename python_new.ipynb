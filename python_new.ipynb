{
 "cells": [
  {
   "cell_type": "markdown",
   "id": "e014ad30-a538-4ef3-ba19-b46339baf24d",
   "metadata": {},
   "source": [
    "#  All print function "
   ]
  },
  {
   "cell_type": "code",
   "execution_count": 1,
   "id": "b8554922-7073-4f8b-a966-68b4eb0696c6",
   "metadata": {},
   "outputs": [
    {
     "name": "stdout",
     "output_type": "stream",
     "text": [
      "hlw\n"
     ]
    }
   ],
   "source": [
    "print(\"hlw\")"
   ]
  },
  {
   "cell_type": "code",
   "execution_count": 2,
   "id": "15aae416-9b26-4ab1-a5bd-bdba7a84129a",
   "metadata": {
    "scrolled": true
   },
   "outputs": [
    {
     "name": "stdout",
     "output_type": "stream",
     "text": [
      "This is A way of printing\n"
     ]
    }
   ],
   "source": [
    "print(\"This is A way of printing\")"
   ]
  },
  {
   "cell_type": "code",
   "execution_count": 3,
   "id": "a7d8d518-2f43-4800-8c2c-851d00b83feb",
   "metadata": {},
   "outputs": [
    {
     "name": "stdout",
     "output_type": "stream",
     "text": [
      "HLW Mr Utsho\n"
     ]
    }
   ],
   "source": [
    "print(\"HLW Mr Utsho\")"
   ]
  },
  {
   "cell_type": "code",
   "execution_count": 2,
   "id": "0f4ba862",
   "metadata": {},
   "outputs": [
    {
     "name": "stdout",
     "output_type": "stream",
     "text": [
      "Applllle\n"
     ]
    }
   ],
   "source": [
    "s=\"Applllle\"\n",
    "print(s)"
   ]
  },
  {
   "cell_type": "markdown",
   "id": "2c3b751f-17ba-4017-b093-acf654f8ddf2",
   "metadata": {},
   "source": [
    "# Variable"
   ]
  },
  {
   "cell_type": "code",
   "execution_count": 12,
   "id": "17859d67-1c2b-4d56-b793-4a6c9b82853e",
   "metadata": {},
   "outputs": [
    {
     "name": "stdout",
     "output_type": "stream",
     "text": [
      "\"a -> 10 + 10 = 20 \"\n"
     ]
    }
   ],
   "source": [
    "a=10\n",
    "print(f'\"a -> {a} + {a} = {a+a} \"')"
   ]
  },
  {
   "cell_type": "code",
   "execution_count": 5,
   "id": "23cf17b8-5c29-4c0e-9f27-41d65d1da6dc",
   "metadata": {},
   "outputs": [
    {
     "name": "stdout",
     "output_type": "stream",
     "text": [
      "Hellow world\n"
     ]
    }
   ],
   "source": [
    "print(\"Hellow world\")"
   ]
  },
  {
   "cell_type": "code",
   "execution_count": 6,
   "id": "6465931a",
   "metadata": {},
   "outputs": [
    {
     "name": "stdout",
     "output_type": "stream",
     "text": [
      "Apple\n"
     ]
    }
   ],
   "source": [
    "a=\"Apple\"\n",
    "print(a)"
   ]
  },
  {
   "cell_type": "markdown",
   "id": "802c2fb0",
   "metadata": {},
   "source": [
    "# String"
   ]
  },
  {
   "cell_type": "code",
   "execution_count": 16,
   "id": "97d7a64f",
   "metadata": {},
   "outputs": [
    {
     "name": "stdout",
     "output_type": "stream",
     "text": [
      "Enter Name  utsho\n"
     ]
    },
    {
     "name": "stdout",
     "output_type": "stream",
     "text": [
      "utshoutsho\n"
     ]
    }
   ],
   "source": [
    "str=\"APPLE\"\n",
    "str = input(\"Enter Name \")\n",
    "print(str+str)"
   ]
  }
 ],
 "metadata": {
  "kernelspec": {
   "display_name": "Python 3 (ipykernel)",
   "language": "python",
   "name": "python3"
  },
  "language_info": {
   "codemirror_mode": {
    "name": "ipython",
    "version": 3
   },
   "file_extension": ".py",
   "mimetype": "text/x-python",
   "name": "python",
   "nbconvert_exporter": "python",
   "pygments_lexer": "ipython3",
   "version": "3.11.9"
  }
 },
 "nbformat": 4,
 "nbformat_minor": 5
}
