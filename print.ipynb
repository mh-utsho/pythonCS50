{
 "cells": [
  {
   "cell_type": "markdown",
   "id": "e014ad30-a538-4ef3-ba19-b46339baf24d",
   "metadata": {},
   "source": [
    "#  All print function "
   ]
  },
  {
   "cell_type": "code",
   "execution_count": 1,
   "id": "b8554922-7073-4f8b-a966-68b4eb0696c6",
   "metadata": {},
   "outputs": [
    {
     "name": "stdout",
     "output_type": "stream",
     "text": [
      "hlw\n"
     ]
    }
   ],
   "source": [
    "str=\"hlw\"\n",
    "print(str)"
   ]
  },
  {
   "cell_type": "code",
   "execution_count": 3,
   "id": "15aae416-9b26-4ab1-a5bd-bdba7a84129a",
   "metadata": {
    "scrolled": true
   },
   "outputs": [
    {
     "name": "stdout",
     "output_type": "stream",
     "text": [
      "My name is Utsho\n",
      "My name is Utsho\n"
     ]
    }
   ],
   "source": [
    "str = \"Utsho\"\n",
    "# when i use a + dont give extra space but , give extra\n",
    "print(\"My name is \"+str)\n",
    "print(\"My name is\",str)"
   ]
  },
  {
   "cell_type": "markdown",
   "id": "18829b0f",
   "metadata": {},
   "source": [
    "# By default print"
   ]
  },
  {
   "cell_type": "code",
   "execution_count": null,
   "id": "de765664",
   "metadata": {},
   "outputs": [],
   "source": [
    " #"
   ]
  }
 ],
 "metadata": {
  "kernelspec": {
   "display_name": "Python 3 (ipykernel)",
   "language": "python",
   "name": "python3"
  },
  "language_info": {
   "codemirror_mode": {
    "name": "ipython",
    "version": 3
   },
   "file_extension": ".py",
   "mimetype": "text/x-python",
   "name": "python",
   "nbconvert_exporter": "python",
   "pygments_lexer": "ipython3",
   "version": "3.11.9"
  }
 },
 "nbformat": 4,
 "nbformat_minor": 5
}
