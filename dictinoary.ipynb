{
 "cells": [
  {
   "cell_type": "code",
   "execution_count": 8,
   "metadata": {},
   "outputs": [
    {
     "name": "stdout",
     "output_type": "stream",
     "text": [
      "{38: 'Utsho', 26: 'Farhan', 12: 'Shihab', 33: 'Adil'}\n",
      "Roll : 38 -> Name : Utsho\n",
      "Roll : 26 -> Name : Farhan\n",
      "Roll : 12 -> Name : Shihab\n",
      "Roll : 33 -> Name : Adil\n"
     ]
    }
   ],
   "source": [
    "students = {\n",
    "    38:\"Utsho\",\n",
    "    26:\"Farhan\",\n",
    "    12:\"Shihab\",\n",
    "    33:\"Adil\"\n",
    "}\n",
    "\n",
    "print(students)\n",
    "\n",
    "# print(students[38])\n",
    "for x in students:\n",
    "    print(f\"Roll : {x} -> Name : {students[x]}\")"
   ]
  },
  {
   "cell_type": "code",
   "execution_count": null,
   "metadata": {},
   "outputs": [],
   "source": [
    "students ={\n",
    "    {\"name\":\"Utsho\"}\n",
    "}"
   ]
  }
 ],
 "metadata": {
  "kernelspec": {
   "display_name": "Python 3",
   "language": "python",
   "name": "python3"
  },
  "language_info": {
   "codemirror_mode": {
    "name": "ipython",
    "version": 3
   },
   "file_extension": ".py",
   "mimetype": "text/x-python",
   "name": "python",
   "nbconvert_exporter": "python",
   "pygments_lexer": "ipython3",
   "version": "3.11.9"
  }
 },
 "nbformat": 4,
 "nbformat_minor": 2
}
